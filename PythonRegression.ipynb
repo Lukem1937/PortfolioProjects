{
  "cells": [
    {
      "cell_type": "markdown",
      "metadata": {
        "id": "12c2KXoFWaDV"
      },
      "source": [
        "# MLB Regression\n",
        "\n",
        "This project uses a dataset of statistics for Major League Baseball teams. I will include the dataset as a .csv file in this repository.\n",
        "\n",
        " After some exploratory analysis, I break down the relationship between a team's Earned Run Average (ERA) and Wins Above Replacement (WAR) against their season win total (W) using both single and multiple linear regression models."
      ]
    },
    {
      "cell_type": "code",
      "execution_count": 4,
      "metadata": {
        "id": "nKR9XXpyWUws"
      },
      "outputs": [],
      "source": [
        "#Import the Libraries\n",
        "import pandas as pd\n",
        "import matplotlib.pyplot as plt\n",
        "import seaborn as sns\n",
        "from sklearn.linear_model import LinearRegression\n",
        "import scipy.stats\n",
        "from scipy.stats import stats"
      ]
    },
    {
      "cell_type": "code",
      "execution_count": 5,
      "metadata": {
        "id": "wFwOgpzUYpTN"
      },
      "outputs": [
        {
          "data": {
            "text/html": [
              "<div>\n",
              "<style scoped>\n",
              "    .dataframe tbody tr th:only-of-type {\n",
              "        vertical-align: middle;\n",
              "    }\n",
              "\n",
              "    .dataframe tbody tr th {\n",
              "        vertical-align: top;\n",
              "    }\n",
              "\n",
              "    .dataframe thead th {\n",
              "        text-align: right;\n",
              "    }\n",
              "</style>\n",
              "<table border=\"1\" class=\"dataframe\">\n",
              "  <thead>\n",
              "    <tr style=\"text-align: right;\">\n",
              "      <th></th>\n",
              "      <th>Unnamed: 0</th>\n",
              "      <th>Season</th>\n",
              "      <th>Team</th>\n",
              "      <th>W</th>\n",
              "      <th>L</th>\n",
              "      <th>SV</th>\n",
              "      <th>IP</th>\n",
              "      <th>ERA</th>\n",
              "      <th>FIP</th>\n",
              "      <th>WAR</th>\n",
              "    </tr>\n",
              "  </thead>\n",
              "  <tbody>\n",
              "    <tr>\n",
              "      <th>0</th>\n",
              "      <td>2</td>\n",
              "      <td>2015</td>\n",
              "      <td>STL</td>\n",
              "      <td>100</td>\n",
              "      <td>62</td>\n",
              "      <td>62</td>\n",
              "      <td>1464.2</td>\n",
              "      <td>2.94</td>\n",
              "      <td>3.48</td>\n",
              "      <td>20.6</td>\n",
              "    </tr>\n",
              "    <tr>\n",
              "      <th>1</th>\n",
              "      <td>3</td>\n",
              "      <td>2018</td>\n",
              "      <td>HOU</td>\n",
              "      <td>103</td>\n",
              "      <td>59</td>\n",
              "      <td>46</td>\n",
              "      <td>1455.0</td>\n",
              "      <td>3.11</td>\n",
              "      <td>3.23</td>\n",
              "      <td>28.6</td>\n",
              "    </tr>\n",
              "    <tr>\n",
              "      <th>2</th>\n",
              "      <td>4</td>\n",
              "      <td>2016</td>\n",
              "      <td>CHC</td>\n",
              "      <td>103</td>\n",
              "      <td>58</td>\n",
              "      <td>38</td>\n",
              "      <td>1459.2</td>\n",
              "      <td>3.15</td>\n",
              "      <td>3.77</td>\n",
              "      <td>18.8</td>\n",
              "    </tr>\n",
              "    <tr>\n",
              "      <th>3</th>\n",
              "      <td>5</td>\n",
              "      <td>2015</td>\n",
              "      <td>PIT</td>\n",
              "      <td>98</td>\n",
              "      <td>64</td>\n",
              "      <td>54</td>\n",
              "      <td>1489.2</td>\n",
              "      <td>3.23</td>\n",
              "      <td>3.36</td>\n",
              "      <td>19.5</td>\n",
              "    </tr>\n",
              "    <tr>\n",
              "      <th>4</th>\n",
              "      <td>6</td>\n",
              "      <td>2017</td>\n",
              "      <td>CLE</td>\n",
              "      <td>102</td>\n",
              "      <td>60</td>\n",
              "      <td>37</td>\n",
              "      <td>1440.2</td>\n",
              "      <td>3.30</td>\n",
              "      <td>3.33</td>\n",
              "      <td>30.4</td>\n",
              "    </tr>\n",
              "    <tr>\n",
              "      <th>...</th>\n",
              "      <td>...</td>\n",
              "      <td>...</td>\n",
              "      <td>...</td>\n",
              "      <td>...</td>\n",
              "      <td>...</td>\n",
              "      <td>...</td>\n",
              "      <td>...</td>\n",
              "      <td>...</td>\n",
              "      <td>...</td>\n",
              "      <td>...</td>\n",
              "    </tr>\n",
              "    <tr>\n",
              "      <th>145</th>\n",
              "      <td>147</td>\n",
              "      <td>2019</td>\n",
              "      <td>KCR</td>\n",
              "      <td>59</td>\n",
              "      <td>103</td>\n",
              "      <td>37</td>\n",
              "      <td>1425.0</td>\n",
              "      <td>5.20</td>\n",
              "      <td>4.90</td>\n",
              "      <td>7.9</td>\n",
              "    </tr>\n",
              "    <tr>\n",
              "      <th>146</th>\n",
              "      <td>148</td>\n",
              "      <td>2019</td>\n",
              "      <td>DET</td>\n",
              "      <td>47</td>\n",
              "      <td>114</td>\n",
              "      <td>31</td>\n",
              "      <td>1433.0</td>\n",
              "      <td>5.26</td>\n",
              "      <td>4.84</td>\n",
              "      <td>11.6</td>\n",
              "    </tr>\n",
              "    <tr>\n",
              "      <th>147</th>\n",
              "      <td>149</td>\n",
              "      <td>2017</td>\n",
              "      <td>DET</td>\n",
              "      <td>64</td>\n",
              "      <td>98</td>\n",
              "      <td>32</td>\n",
              "      <td>1420.1</td>\n",
              "      <td>5.36</td>\n",
              "      <td>4.73</td>\n",
              "      <td>11.5</td>\n",
              "    </tr>\n",
              "    <tr>\n",
              "      <th>148</th>\n",
              "      <td>150</td>\n",
              "      <td>2019</td>\n",
              "      <td>COL</td>\n",
              "      <td>71</td>\n",
              "      <td>91</td>\n",
              "      <td>28</td>\n",
              "      <td>1448.2</td>\n",
              "      <td>5.58</td>\n",
              "      <td>5.23</td>\n",
              "      <td>6.3</td>\n",
              "    </tr>\n",
              "    <tr>\n",
              "      <th>149</th>\n",
              "      <td>151</td>\n",
              "      <td>2019</td>\n",
              "      <td>BAL</td>\n",
              "      <td>54</td>\n",
              "      <td>108</td>\n",
              "      <td>27</td>\n",
              "      <td>1443.0</td>\n",
              "      <td>5.67</td>\n",
              "      <td>5.56</td>\n",
              "      <td>5.3</td>\n",
              "    </tr>\n",
              "  </tbody>\n",
              "</table>\n",
              "<p>150 rows × 10 columns</p>\n",
              "</div>"
            ],
            "text/plain": [
              "     Unnamed: 0  Season Team    W    L  SV      IP   ERA   FIP   WAR\n",
              "0             2    2015  STL  100   62  62  1464.2  2.94  3.48  20.6\n",
              "1             3    2018  HOU  103   59  46  1455.0  3.11  3.23  28.6\n",
              "2             4    2016  CHC  103   58  38  1459.2  3.15  3.77  18.8\n",
              "3             5    2015  PIT   98   64  54  1489.2  3.23  3.36  19.5\n",
              "4             6    2017  CLE  102   60  37  1440.2  3.30  3.33  30.4\n",
              "..          ...     ...  ...  ...  ...  ..     ...   ...   ...   ...\n",
              "145         147    2019  KCR   59  103  37  1425.0  5.20  4.90   7.9\n",
              "146         148    2019  DET   47  114  31  1433.0  5.26  4.84  11.6\n",
              "147         149    2017  DET   64   98  32  1420.1  5.36  4.73  11.5\n",
              "148         150    2019  COL   71   91  28  1448.2  5.58  5.23   6.3\n",
              "149         151    2019  BAL   54  108  27  1443.0  5.67  5.56   5.3\n",
              "\n",
              "[150 rows x 10 columns]"
            ]
          },
          "execution_count": 5,
          "metadata": {},
          "output_type": "execute_result"
        }
      ],
      "source": [
        "MLB = pd.read_csv(\"MLB.csv\")\n",
        "MLB"
      ]
    },
    {
      "cell_type": "code",
      "execution_count": 7,
      "metadata": {
        "id": "0K-fFzZaZMVI"
      },
      "outputs": [
        {
          "data": {
            "text/html": [
              "<div>\n",
              "<style scoped>\n",
              "    .dataframe tbody tr th:only-of-type {\n",
              "        vertical-align: middle;\n",
              "    }\n",
              "\n",
              "    .dataframe tbody tr th {\n",
              "        vertical-align: top;\n",
              "    }\n",
              "\n",
              "    .dataframe thead th {\n",
              "        text-align: right;\n",
              "    }\n",
              "</style>\n",
              "<table border=\"1\" class=\"dataframe\">\n",
              "  <thead>\n",
              "    <tr style=\"text-align: right;\">\n",
              "      <th></th>\n",
              "      <th>Unnamed: 0</th>\n",
              "      <th>Season</th>\n",
              "      <th>W</th>\n",
              "      <th>L</th>\n",
              "      <th>SV</th>\n",
              "      <th>IP</th>\n",
              "      <th>ERA</th>\n",
              "      <th>FIP</th>\n",
              "      <th>WAR</th>\n",
              "    </tr>\n",
              "  </thead>\n",
              "  <tbody>\n",
              "    <tr>\n",
              "      <th>count</th>\n",
              "      <td>150.000000</td>\n",
              "      <td>150.000000</td>\n",
              "      <td>150.000000</td>\n",
              "      <td>150.000000</td>\n",
              "      <td>150.000000</td>\n",
              "      <td>150.000000</td>\n",
              "      <td>150.00000</td>\n",
              "      <td>150.000000</td>\n",
              "      <td>150.000000</td>\n",
              "    </tr>\n",
              "    <tr>\n",
              "      <th>mean</th>\n",
              "      <td>76.500000</td>\n",
              "      <td>2017.000000</td>\n",
              "      <td>80.973333</td>\n",
              "      <td>80.973333</td>\n",
              "      <td>41.140000</td>\n",
              "      <td>1445.677333</td>\n",
              "      <td>4.23500</td>\n",
              "      <td>4.234933</td>\n",
              "      <td>14.330667</td>\n",
              "    </tr>\n",
              "    <tr>\n",
              "      <th>std</th>\n",
              "      <td>43.445368</td>\n",
              "      <td>1.418951</td>\n",
              "      <td>12.675054</td>\n",
              "      <td>12.628904</td>\n",
              "      <td>7.530725</td>\n",
              "      <td>13.224459</td>\n",
              "      <td>0.53391</td>\n",
              "      <td>0.437348</td>\n",
              "      <td>5.476612</td>\n",
              "    </tr>\n",
              "    <tr>\n",
              "      <th>min</th>\n",
              "      <td>2.000000</td>\n",
              "      <td>2015.000000</td>\n",
              "      <td>47.000000</td>\n",
              "      <td>54.000000</td>\n",
              "      <td>25.000000</td>\n",
              "      <td>1412.200000</td>\n",
              "      <td>2.94000</td>\n",
              "      <td>3.230000</td>\n",
              "      <td>1.000000</td>\n",
              "    </tr>\n",
              "    <tr>\n",
              "      <th>25%</th>\n",
              "      <td>39.250000</td>\n",
              "      <td>2016.000000</td>\n",
              "      <td>71.000000</td>\n",
              "      <td>71.250000</td>\n",
              "      <td>36.000000</td>\n",
              "      <td>1437.125000</td>\n",
              "      <td>3.82000</td>\n",
              "      <td>3.970000</td>\n",
              "      <td>10.025000</td>\n",
              "    </tr>\n",
              "    <tr>\n",
              "      <th>50%</th>\n",
              "      <td>76.500000</td>\n",
              "      <td>2017.000000</td>\n",
              "      <td>81.000000</td>\n",
              "      <td>81.000000</td>\n",
              "      <td>41.000000</td>\n",
              "      <td>1443.550000</td>\n",
              "      <td>4.18000</td>\n",
              "      <td>4.220000</td>\n",
              "      <td>14.150000</td>\n",
              "    </tr>\n",
              "    <tr>\n",
              "      <th>75%</th>\n",
              "      <td>113.750000</td>\n",
              "      <td>2018.000000</td>\n",
              "      <td>91.000000</td>\n",
              "      <td>91.000000</td>\n",
              "      <td>46.000000</td>\n",
              "      <td>1454.550000</td>\n",
              "      <td>4.63000</td>\n",
              "      <td>4.525000</td>\n",
              "      <td>18.475000</td>\n",
              "    </tr>\n",
              "    <tr>\n",
              "      <th>max</th>\n",
              "      <td>151.000000</td>\n",
              "      <td>2019.000000</td>\n",
              "      <td>108.000000</td>\n",
              "      <td>115.000000</td>\n",
              "      <td>62.000000</td>\n",
              "      <td>1489.200000</td>\n",
              "      <td>5.67000</td>\n",
              "      <td>5.560000</td>\n",
              "      <td>30.400000</td>\n",
              "    </tr>\n",
              "  </tbody>\n",
              "</table>\n",
              "</div>"
            ],
            "text/plain": [
              "       Unnamed: 0       Season           W           L          SV  \\\n",
              "count  150.000000   150.000000  150.000000  150.000000  150.000000   \n",
              "mean    76.500000  2017.000000   80.973333   80.973333   41.140000   \n",
              "std     43.445368     1.418951   12.675054   12.628904    7.530725   \n",
              "min      2.000000  2015.000000   47.000000   54.000000   25.000000   \n",
              "25%     39.250000  2016.000000   71.000000   71.250000   36.000000   \n",
              "50%     76.500000  2017.000000   81.000000   81.000000   41.000000   \n",
              "75%    113.750000  2018.000000   91.000000   91.000000   46.000000   \n",
              "max    151.000000  2019.000000  108.000000  115.000000   62.000000   \n",
              "\n",
              "                IP        ERA         FIP         WAR  \n",
              "count   150.000000  150.00000  150.000000  150.000000  \n",
              "mean   1445.677333    4.23500    4.234933   14.330667  \n",
              "std      13.224459    0.53391    0.437348    5.476612  \n",
              "min    1412.200000    2.94000    3.230000    1.000000  \n",
              "25%    1437.125000    3.82000    3.970000   10.025000  \n",
              "50%    1443.550000    4.18000    4.220000   14.150000  \n",
              "75%    1454.550000    4.63000    4.525000   18.475000  \n",
              "max    1489.200000    5.67000    5.560000   30.400000  "
            ]
          },
          "execution_count": 7,
          "metadata": {},
          "output_type": "execute_result"
        }
      ],
      "source": [
        "description = MLB.describe()\n",
        "description"
      ]
    },
    {
      "cell_type": "code",
      "execution_count": 9,
      "metadata": {
        "id": "acMNMo98Zi9i"
      },
      "outputs": [
        {
          "data": {
            "text/plain": [
              "<AxesSubplot:>"
            ]
          },
          "execution_count": 9,
          "metadata": {},
          "output_type": "execute_result"
        },
        {
          "data": {
            "image/png": "[encoded data removed]",
            "text/plain": [
              "<Figure size 432x288 with 1 Axes>"
            ]
          },
          "metadata": {
            "needs_background": "light"
          },
          "output_type": "display_data"
        }
      ],
      "source": [
        "#Histogram of Wins\n",
        "MLB[\"W\"].hist()"
      ]
    },
    {
      "cell_type": "code",
      "execution_count": 10,
      "metadata": {
        "id": "S1eYAEQFZq1L"
      },
      "outputs": [
        {
          "data": {
            "text/plain": [
              "<AxesSubplot:>"
            ]
          },
          "execution_count": 10,
          "metadata": {},
          "output_type": "execute_result"
        },
        {
          "data": {
            "image/png": "[encoded data removed]",
            "text/plain": [
              "<Figure size 432x288 with 1 Axes>"
            ]
          },
          "metadata": {
            "needs_background": "light"
          },
          "output_type": "display_data"
        }
      ],
      "source": [
        "#Histogram for ERA\n",
        "MLB[\"ERA\"].hist()"
      ]
    },
    {
      "cell_type": "code",
      "execution_count": 11,
      "metadata": {
        "id": "qU-4NKUHZvv0"
      },
      "outputs": [
        {
          "data": {
            "text/plain": [
              "<AxesSubplot:>"
            ]
          },
          "execution_count": 11,
          "metadata": {},
          "output_type": "execute_result"
        },
        {
          "data": {
            "image/png": "[encoded data removed]",
            "text/plain": [
              "<Figure size 432x288 with 1 Axes>"
            ]
          },
          "metadata": {
            "needs_background": "light"
          },
          "output_type": "display_data"
        }
      ],
      "source": [
        "#Histogram for Wins Above Replacement\n",
        "MLB[\"WAR\"].hist()"
      ]
    },
    {
      "cell_type": "code",
      "execution_count": 12,
      "metadata": {
        "id": "rHDwf5zNZ5au"
      },
      "outputs": [
        {
          "data": {
            "text/plain": [
              "<AxesSubplot:xlabel='ERA', ylabel='W'>"
            ]
          },
          "execution_count": 12,
          "metadata": {},
          "output_type": "execute_result"
        },
        {
          "data": {
            "image/png": "[encoded data removed]",
            "text/plain": [
              "<Figure size 432x288 with 1 Axes>"
            ]
          },
          "metadata": {
            "needs_background": "light"
          },
          "output_type": "display_data"
        }
      ],
      "source": [
        "#Plottting ERA against Wins\n",
        "MLB.plot.scatter(x = \"ERA\", y = \"W\")"
      ]
    },
    {
      "cell_type": "code",
      "execution_count": 13,
      "metadata": {
        "id": "7vuCpdrHaFjx"
      },
      "outputs": [
        {
          "data": {
            "text/plain": [
              "<AxesSubplot:xlabel='WAR', ylabel='W'>"
            ]
          },
          "execution_count": 13,
          "metadata": {},
          "output_type": "execute_result"
        },
        {
          "data": {
            "image/png": "[encoded data removed]",
            "text/plain": [
              "<Figure size 432x288 with 1 Axes>"
            ]
          },
          "metadata": {
            "needs_background": "light"
          },
          "output_type": "display_data"
        }
      ],
      "source": [
        "#Plotting Wins Above Replacement against Wins\n",
        "MLB.plot.scatter(x = \"WAR\", y = \"W\")"
      ]
    },
    {
      "cell_type": "markdown",
      "metadata": {
        "id": "F-U-Kr_IaZce"
      },
      "source": [
        "There seems to be a negative correlation between Wins and ERA, and a positive correlation between Wins and WAR."
      ]
    },
    {
      "cell_type": "markdown",
      "metadata": {
        "id": "7O1xz7gmamS7"
      },
      "source": [
        "The relationship between Wins and ERA tells us that the more runs let through by the pitcher in a game, the less likely that pitcher's team is to win. Conversely, the higher the WAR value of a team, the higher the likelyhood of winning a game."
      ]
    },
    {
      "cell_type": "code",
      "execution_count": 14,
      "metadata": {
        "id": "nRzVqg7dattc"
      },
      "outputs": [
        {
          "data": {
            "text/html": [
              "<div>\n",
              "<style scoped>\n",
              "    .dataframe tbody tr th:only-of-type {\n",
              "        vertical-align: middle;\n",
              "    }\n",
              "\n",
              "    .dataframe tbody tr th {\n",
              "        vertical-align: top;\n",
              "    }\n",
              "\n",
              "    .dataframe thead th {\n",
              "        text-align: right;\n",
              "    }\n",
              "</style>\n",
              "<table border=\"1\" class=\"dataframe\">\n",
              "  <thead>\n",
              "    <tr style=\"text-align: right;\">\n",
              "      <th></th>\n",
              "      <th>Unnamed: 0</th>\n",
              "      <th>Season</th>\n",
              "      <th>W</th>\n",
              "      <th>L</th>\n",
              "      <th>SV</th>\n",
              "      <th>IP</th>\n",
              "      <th>ERA</th>\n",
              "      <th>FIP</th>\n",
              "      <th>WAR</th>\n",
              "    </tr>\n",
              "  </thead>\n",
              "  <tbody>\n",
              "    <tr>\n",
              "      <th>Unnamed: 0</th>\n",
              "      <td>1.000000</td>\n",
              "      <td>0.258563</td>\n",
              "      <td>-0.769663</td>\n",
              "      <td>0.769858</td>\n",
              "      <td>-0.592083</td>\n",
              "      <td>-0.514336</td>\n",
              "      <td>0.980132</td>\n",
              "      <td>0.891618</td>\n",
              "      <td>-0.745739</td>\n",
              "    </tr>\n",
              "    <tr>\n",
              "      <th>Season</th>\n",
              "      <td>0.258563</td>\n",
              "      <td>1.000000</td>\n",
              "      <td>0.001493</td>\n",
              "      <td>0.001498</td>\n",
              "      <td>-0.160786</td>\n",
              "      <td>0.078542</td>\n",
              "      <td>0.279497</td>\n",
              "      <td>0.340558</td>\n",
              "      <td>-0.000173</td>\n",
              "    </tr>\n",
              "    <tr>\n",
              "      <th>W</th>\n",
              "      <td>-0.769663</td>\n",
              "      <td>0.001493</td>\n",
              "      <td>1.000000</td>\n",
              "      <td>-0.999680</td>\n",
              "      <td>0.633547</td>\n",
              "      <td>0.501172</td>\n",
              "      <td>-0.780843</td>\n",
              "      <td>-0.678682</td>\n",
              "      <td>0.753243</td>\n",
              "    </tr>\n",
              "    <tr>\n",
              "      <th>L</th>\n",
              "      <td>0.769858</td>\n",
              "      <td>0.001498</td>\n",
              "      <td>-0.999680</td>\n",
              "      <td>1.000000</td>\n",
              "      <td>-0.632396</td>\n",
              "      <td>-0.496348</td>\n",
              "      <td>0.781417</td>\n",
              "      <td>0.679728</td>\n",
              "      <td>-0.754419</td>\n",
              "    </tr>\n",
              "    <tr>\n",
              "      <th>SV</th>\n",
              "      <td>-0.592083</td>\n",
              "      <td>-0.160786</td>\n",
              "      <td>0.633547</td>\n",
              "      <td>-0.632396</td>\n",
              "      <td>1.000000</td>\n",
              "      <td>0.348657</td>\n",
              "      <td>-0.620801</td>\n",
              "      <td>-0.574121</td>\n",
              "      <td>0.514135</td>\n",
              "    </tr>\n",
              "    <tr>\n",
              "      <th>IP</th>\n",
              "      <td>-0.514336</td>\n",
              "      <td>0.078542</td>\n",
              "      <td>0.501172</td>\n",
              "      <td>-0.496348</td>\n",
              "      <td>0.348657</td>\n",
              "      <td>1.000000</td>\n",
              "      <td>-0.506675</td>\n",
              "      <td>-0.471604</td>\n",
              "      <td>0.385179</td>\n",
              "    </tr>\n",
              "    <tr>\n",
              "      <th>ERA</th>\n",
              "      <td>0.980132</td>\n",
              "      <td>0.279497</td>\n",
              "      <td>-0.780843</td>\n",
              "      <td>0.781417</td>\n",
              "      <td>-0.620801</td>\n",
              "      <td>-0.506675</td>\n",
              "      <td>1.000000</td>\n",
              "      <td>0.904599</td>\n",
              "      <td>-0.742999</td>\n",
              "    </tr>\n",
              "    <tr>\n",
              "      <th>FIP</th>\n",
              "      <td>0.891618</td>\n",
              "      <td>0.340558</td>\n",
              "      <td>-0.678682</td>\n",
              "      <td>0.679728</td>\n",
              "      <td>-0.574121</td>\n",
              "      <td>-0.471604</td>\n",
              "      <td>0.904599</td>\n",
              "      <td>1.000000</td>\n",
              "      <td>-0.811927</td>\n",
              "    </tr>\n",
              "    <tr>\n",
              "      <th>WAR</th>\n",
              "      <td>-0.745739</td>\n",
              "      <td>-0.000173</td>\n",
              "      <td>0.753243</td>\n",
              "      <td>-0.754419</td>\n",
              "      <td>0.514135</td>\n",
              "      <td>0.385179</td>\n",
              "      <td>-0.742999</td>\n",
              "      <td>-0.811927</td>\n",
              "      <td>1.000000</td>\n",
              "    </tr>\n",
              "  </tbody>\n",
              "</table>\n",
              "</div>"
            ],
            "text/plain": [
              "            Unnamed: 0    Season         W         L        SV        IP  \\\n",
              "Unnamed: 0    1.000000  0.258563 -0.769663  0.769858 -0.592083 -0.514336   \n",
              "Season        0.258563  1.000000  0.001493  0.001498 -0.160786  0.078542   \n",
              "W            -0.769663  0.001493  1.000000 -0.999680  0.633547  0.501172   \n",
              "L             0.769858  0.001498 -0.999680  1.000000 -0.632396 -0.496348   \n",
              "SV           -0.592083 -0.160786  0.633547 -0.632396  1.000000  0.348657   \n",
              "IP           -0.514336  0.078542  0.501172 -0.496348  0.348657  1.000000   \n",
              "ERA           0.980132  0.279497 -0.780843  0.781417 -0.620801 -0.506675   \n",
              "FIP           0.891618  0.340558 -0.678682  0.679728 -0.574121 -0.471604   \n",
              "WAR          -0.745739 -0.000173  0.753243 -0.754419  0.514135  0.385179   \n",
              "\n",
              "                 ERA       FIP       WAR  \n",
              "Unnamed: 0  0.980132  0.891618 -0.745739  \n",
              "Season      0.279497  0.340558 -0.000173  \n",
              "W          -0.780843 -0.678682  0.753243  \n",
              "L           0.781417  0.679728 -0.754419  \n",
              "SV         -0.620801 -0.574121  0.514135  \n",
              "IP         -0.506675 -0.471604  0.385179  \n",
              "ERA         1.000000  0.904599 -0.742999  \n",
              "FIP         0.904599  1.000000 -0.811927  \n",
              "WAR        -0.742999 -0.811927  1.000000  "
            ]
          },
          "execution_count": 14,
          "metadata": {},
          "output_type": "execute_result"
        }
      ],
      "source": [
        "#Correlation Matrix\n",
        "cor = MLB.corr()\n",
        "cor"
      ]
    },
    {
      "cell_type": "code",
      "execution_count": 16,
      "metadata": {
        "id": "iBd89TeXbW8p"
      },
      "outputs": [
        {
          "name": "stdout",
          "output_type": "stream",
          "text": [
            "The intercept (ß0) = 159.4785641865975.\n",
            "The slope (ß1) = [-18.53724459].\n"
          ]
        }
      ],
      "source": [
        "#Creation of Regression Model using ERA as the x-variable to predict wins.\n",
        "\n",
        "sd_w = MLB[\"W\"].std()\n",
        "sd_era = MLB[\"ERA\"].std()\n",
        "mean_w = MLB[\"W\"].mean()\n",
        "mean_era = MLB[\"ERA\"].mean()\n",
        "r = -0.780843\n",
        "model = LinearRegression()\n",
        "reg1 = model.fit(MLB[[\"ERA\"]], MLB[\"W\"])\n",
        "\n",
        "b1_ERA = reg1.coef_\n",
        "b0_ERA = reg1.intercept_\n",
        "\n",
        "print(\"The intercept (ß0) = \" + str(b0_ERA) + \".\")\n",
        "print(\"The slope (ß1) = \" + str(b1_ERA) + \".\")"
      ]
    },
    {
      "cell_type": "markdown",
      "metadata": {
        "id": "TtSoOE1Gbo2T"
      },
      "source": [
        "Regression model:\n",
        "W = 157.48 - 18.54(ERA)"
      ]
    },
    {
      "cell_type": "code",
      "execution_count": 17,
      "metadata": {
        "id": "5ls9u9S0b3Uu"
      },
      "outputs": [
        {
          "name": "stdout",
          "output_type": "stream",
          "text": [
            "The intercept (ß0) = 55.99062817707242.\n",
            "The slope (ß1) = [1.74330377].\n"
          ]
        }
      ],
      "source": [
        "#Creation of Regression Model using WAR as the x-varaible to predict wins.\n",
        "sd_war = MLB[\"WAR\"].std()\n",
        "mean_war = MLB[\"WAR\"].mean()\n",
        "r2 = 0.753243\n",
        "\n",
        "reg = LinearRegression().fit(MLB[[\"WAR\"]], MLB[\"W\"])\n",
        "reg.coef_\n",
        "reg.intercept_\n",
        "b1_WAR = reg.coef_\n",
        "b0_WAR = reg.intercept_\n",
        "\n",
        "print(\"The intercept (ß0) = \" + str(b0_WAR) + \".\")\n",
        "print(\"The slope (ß1) = \" + str(b1_WAR) + \".\")"
      ]
    },
    {
      "cell_type": "markdown",
      "metadata": {
        "id": "UYv5Vj_xb-KK"
      },
      "source": [
        "Regression model: W = 55.99 + 1.74(WAR)"
      ]
    },
    {
      "cell_type": "code",
      "execution_count": 18,
      "metadata": {
        "id": "uR37dfUadz-D"
      },
      "outputs": [
        {
          "name": "stdout",
          "output_type": "stream",
          "text": [
            "The t-Test Statistic for ß0 in W~ERA is 30.645381281052558.\n",
            "The t-Test Statistic for ß1 in W~ERA is [-15.20692748].\n",
            "The p-value for ß0 in W~ERA is 5.776406818103569e-66.\n",
            "The p-value for ß1 in W~ERA is [4.79161795e-32].\n"
          ]
        }
      ],
      "source": [
        "#t-Test Statistic and p-value calculations for ERA to predict wins.\n",
        "ts_b0_ERA = reg1.intercept_ / 5.204\n",
        "ts_b1_ERA = reg1.coef_ / 1.219\n",
        "df1 = len(MLB[\"W\"]) - 2\n",
        "p_value_b0_ERA = scipy.stats.t.sf(ts_b0_ERA, df1)*2\n",
        "p_value_b1_ERA = scipy.stats.t.sf(abs(ts_b1_ERA), df1)*2\n",
        "\n",
        "print(\"The t-Test Statistic for ß0 in W~ERA is \" + str(ts_b0_ERA) + \".\")\n",
        "print(\"The t-Test Statistic for ß1 in W~ERA is \" + str(ts_b1_ERA) + \".\")\n",
        "print(\"The p-value for ß0 in W~ERA is \" + str(p_value_b0_ERA) + \".\")\n",
        "print(\"The p-value for ß1 in W~ERA is \" + str(p_value_b1_ERA) + \".\")"
      ]
    },
    {
      "cell_type": "code",
      "execution_count": 20,
      "metadata": {
        "id": "R8W0lC2Md9GE"
      },
      "outputs": [
        {
          "name": "stdout",
          "output_type": "stream",
          "text": [
            "The t-Test Statistic for ß0 in W~WAR is 29.178502359201847.\n",
            "The t-Test Statistic for ß1 in W~WAR is [13.9352819].\n",
            "The p-value for ß0 in W~ERA is 2.9479146729524473e-63.\n",
            "The p-value for ß1 in W~ERA is [1.00070344e-28].\n"
          ]
        }
      ],
      "source": [
        "#t-Test Statistic and p-value calculations for WAR to predict wins.\n",
        "\n",
        "ts_b0_WAR = reg.intercept_ / 1.9189\n",
        "ts_b1_WAR = reg.coef_ / 0.1251\n",
        "\n",
        "p_value_b0_WAR = scipy.stats.t.sf(ts_b0_WAR, df1)*2\n",
        "p_value_b1_WAR = scipy.stats.t.sf(ts_b1_WAR, df1)*2\n",
        "\n",
        "print(\"The t-Test Statistic for ß0 in W~WAR is \" + str(ts_b0_WAR) + \".\")\n",
        "print(\"The t-Test Statistic for ß1 in W~WAR is \" + str(ts_b1_WAR) + \".\")\n",
        "print(\"The p-value for ß0 in W~ERA is \" + str(p_value_b0_WAR) + \".\")\n",
        "print(\"The p-value for ß1 in W~ERA is \" + str(p_value_b1_WAR) + \".\")"
      ]
    },
    {
      "cell_type": "markdown",
      "metadata": {
        "id": "amwn-Sn8eNRn"
      },
      "source": [
        "The slope of the ERA regression is statistically significant at 4.7e-33. The intercept of the ERA regression is even more significant at 5.7e-66. \n",
        "Similarly the slope of the WAR regression is significant at 1.0e-28, and the intercept even more significant at 2.9e-63. \n",
        "\n",
        "Every estimate is significant beyond a 1% level."
      ]
    },
    {
      "cell_type": "code",
      "execution_count": 22,
      "metadata": {
        "id": "2gi5u16ZeWhw"
      },
      "outputs": [
        {
          "data": {
            "text/plain": [
              "<AxesSubplot:xlabel='ERA', ylabel='W'>"
            ]
          },
          "execution_count": 22,
          "metadata": {},
          "output_type": "execute_result"
        },
        {
          "data": {
            "image/png": "[encoded data removed]",
            "text/plain": [
              "<Figure size 432x288 with 1 Axes>"
            ]
          },
          "metadata": {
            "needs_background": "light"
          },
          "output_type": "display_data"
        }
      ],
      "source": [
        "#Scatter Plot of W~ERA with Single Linear Regression (SLR)\n",
        "sns.regplot(x = MLB[\"ERA\"], y = MLB[\"W\"])"
      ]
    },
    {
      "cell_type": "code",
      "execution_count": 23,
      "metadata": {
        "id": "wkO2M5DUeZF4"
      },
      "outputs": [
        {
          "data": {
            "text/plain": [
              "<AxesSubplot:xlabel='WAR', ylabel='W'>"
            ]
          },
          "execution_count": 23,
          "metadata": {},
          "output_type": "execute_result"
        },
        {
          "data": {
            "image/png": "[encoded data removed]",
            "text/plain": [
              "<Figure size 432x288 with 1 Axes>"
            ]
          },
          "metadata": {
            "needs_background": "light"
          },
          "output_type": "display_data"
        }
      ],
      "source": [
        "#Scatter Plot of W~WAR with SLR\n",
        "sns.regplot(x = MLB[\"WAR\"], y = MLB[\"W\"])"
      ]
    },
    {
      "cell_type": "code",
      "execution_count": 24,
      "metadata": {
        "id": "deNvxmOXfDAO"
      },
      "outputs": [
        {
          "name": "stdout",
          "output_type": "stream",
          "text": [
            "The intercept (ß0) = 117.80127404374933.\n",
            "The coefficient estimates (ß1 & ß2) are [-11.72203031   0.8942262 ].\n"
          ]
        }
      ],
      "source": [
        "#Creation of Model using ERA+WAR to predict wins\n",
        "\n",
        "xvals = MLB[[\"ERA\", \"WAR\"]]\n",
        "reg2 = model.fit(xvals, MLB[\"W\"])\n",
        "MLR_b0 = reg2.intercept_\n",
        "MLR_bi = reg2.coef_\n",
        "\n",
        "print(\"The intercept (ß0) = \" + str(MLR_b0) + \".\")\n",
        "print(\"The coefficient estimates (ß1 & ß2) are \" + str(MLR_bi) + \".\")"
      ]
    },
    {
      "cell_type": "markdown",
      "metadata": {
        "id": "bMjvV2dcfR2P"
      },
      "source": [
        "Regression model: W = 117.801 - 11.72(ERA) + 0.89(WAR)"
      ]
    },
    {
      "cell_type": "code",
      "execution_count": 25,
      "metadata": {
        "id": "iqWdoNWsgCGH"
      },
      "outputs": [
        {
          "data": {
            "text/plain": [
              "6.394884621840902e-14"
            ]
          },
          "execution_count": 25,
          "metadata": {},
          "output_type": "execute_result"
        }
      ],
      "source": [
        "#Code for computing the residuals.\n",
        "#residuls  = predicted wins - actual wins\n",
        "MLB[\"residuals\"] = MLB[\"W\"] - reg2.predict(MLB[[\"ERA\", \"WAR\"]])\n",
        "MLB[\"residuals\"].sum()"
      ]
    },
    {
      "cell_type": "code",
      "execution_count": 28,
      "metadata": {
        "id": "2jzOCxF3gM_W"
      },
      "outputs": [
        {
          "name": "stdout",
          "output_type": "stream",
          "text": [
            "The predicted win total with a team ERA of 3.21 and a team WAR of 25.24 is 103 wins.\n"
          ]
        }
      ],
      "source": [
        "#Predicting number of wins for a team with ERA = 3.21 and WAR = 25.24\n",
        "win_prediction = 117.801 - 11.72*(3.21) + 0.89*(25.24)\n",
        "win_prediction = round(win_prediction)\n",
        "\n",
        "print(\"The predicted win total with a team ERA of 3.21 and a team WAR of 25.24 is \" + str(win_prediction) + \" wins.\")\n"
      ]
    }
  ],
  "metadata": {
    "colab": {
      "collapsed_sections": [],
      "name": "regression.ipynb",
      "provenance": []
    },
    "kernelspec": {
      "display_name": "Python 3",
      "name": "python3"
    },
    "language_info": {
      "codemirror_mode": {
        "name": "ipython",
        "version": 3
      },
      "file_extension": ".py",
      "mimetype": "text/x-python",
      "name": "python",
      "nbconvert_exporter": "python",
      "pygments_lexer": "ipython3",
      "version": "3.9.6"
    }
  },
  "nbformat": 4,
  "nbformat_minor": 0
}
